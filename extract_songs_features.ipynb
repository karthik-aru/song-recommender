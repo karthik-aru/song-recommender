{
 "cells": [
  {
   "cell_type": "code",
   "execution_count": 1,
   "metadata": {},
   "outputs": [],
   "source": [
    "import spotipy # install if needed\n",
    "from spotipy.oauth2 import SpotifyClientCredentials"
   ]
  },
  {
   "cell_type": "code",
   "execution_count": 2,
   "metadata": {},
   "outputs": [],
   "source": [
    "#Initialize SpotiPy with user credentias\n",
    "sp = spotipy.Spotify(auth_manager=SpotifyClientCredentials(\n",
    "    client_id=\"06d4d3c9cc864dba9b53fc580484930f\",\n",
    "    client_secret=\"9be1835fc8074231a8b09a1ac9b74ed0\"))"
   ]
  },
  {
   "cell_type": "code",
   "execution_count": 3,
   "metadata": {},
   "outputs": [],
   "source": [
    "# get a list of tracks for a given playlist\n",
    "\n",
    "def get_playlist_track_infos(playlist_id, playlist_type = 'playlist'):\n",
    "    uri = []\n",
    "    name = []\n",
    "    artists = []\n",
    "    ext_url = []\n",
    "    danceability = []\n",
    "    energy = []\n",
    "    key = []\n",
    "    loudness = []\n",
    "    mode = []\n",
    "    speechiness = []\n",
    "    acousticness = []\n",
    "    instrumentalness = []\n",
    "    liveness = []\n",
    "    valence = []\n",
    "    tempo = []\n",
    "    duration_ms = []\n",
    "    time_signature = []\n",
    "    \n",
    "    if playlist_type == \"playlist\":\n",
    "        playlist = sp.user_playlist_tracks(\"spotify\", playlist_id)\n",
    "    elif playlist_type == \"album\":\n",
    "        playlist = sp.album_tracks(playlist_id)\n",
    "            \n",
    "    items = playlist[\"items\"]\n",
    "    \n",
    "    #extract the entire playlist\n",
    "    while playlist['next']:\n",
    "        items.extend(playlist[\"items\"])\n",
    "    \n",
    "    #extract the uri names and external urls\n",
    "    for song in items:\n",
    "        uri.append(song[\"track\"][\"uri\"])\n",
    "        name.append(song[\"track\"][\"name\"])\n",
    "        ext_url.append(song[\"track\"][\"external_urls\"][\"spotify\"])\n",
    "    \n",
    "    \n",
    "    # extract the artist or collaborating artists for the song\n",
    "    artist_nested_list = []\n",
    "    for item in items:\n",
    "        artist_nested_list.append(item[\"track\"][\"artists\"])\n",
    "    \n",
    "    for artist in artist_nested_list:\n",
    "        \n",
    "        if len(artist) == 1:\n",
    "            artists.append(artist[0][\"name\"])\n",
    "        elif len(artist) > 1:\n",
    "            collab_artists = \"\"\n",
    "            for sub_artist in artist:\n",
    "                collab_artists += sub_artist[\"name\"] + \"#\"\n",
    "            artists.append(collab_artists)\n",
    "        else:\n",
    "            artists.append(\"\")\n",
    "    \n",
    "    \n",
    "    # extract the audio features\n",
    "    \n",
    "    track_audio_features = sp.audio_features(uri)\n",
    "\n",
    "    for track in track_audio_features:\n",
    "        danceability.append(track[\"danceability\"])\n",
    "        energy.append(track[\"energy\"])\n",
    "        key.append(track[\"key\"])\n",
    "        loudness.append(track[\"loudness\"])\n",
    "        mode.append(track[\"mode\"])\n",
    "        speechiness.append(track[\"speechiness\"])\n",
    "        acousticness.append(track[\"acousticness\"])\n",
    "        instrumentalness.append(track[\"instrumentalness\"])\n",
    "        liveness.append(track[\"liveness\"])\n",
    "        valence.append(track[\"valence\"])\n",
    "        tempo.append(track[\"tempo\"])\n",
    "        duration_ms.append(track[\"duration_ms\"])\n",
    "        time_signature.append(track[\"time_signature\"])\n",
    "        \n",
    "    return {\"uri\" : uri, \n",
    "            \"song_title\" : name, \n",
    "            \"artists\": artists,\n",
    "            \"external_url\" : ext_url,\n",
    "            \"danceability\" : danceability,\n",
    "            \"energy\" : energy,\n",
    "            \"key\" : key,\n",
    "            \"loudness\" : loudness,\n",
    "            \"mode\" : mode,\n",
    "            \"speechiness\" : speechiness,\n",
    "            \"acousticness\" : acousticness,\n",
    "            \"instrumentalness\" : instrumentalness,\n",
    "            \"liveness\" : liveness,\n",
    "            \"valence\" : valence,\n",
    "            \"tempo\" : tempo,\n",
    "            \"duration_ms\" : duration_ms,\n",
    "            \"time_signature\" : time_signature\n",
    "           }\n",
    "\n",
    "    \n",
    "#print(get_playlist_track_infos(\"spotify:playlist:1kVI7R6OrKNN8Bf8GMJq9q\")[\"time_signature\"])"
   ]
  },
  {
   "cell_type": "code",
   "execution_count": 4,
   "metadata": {},
   "outputs": [],
   "source": [
    "import pandas as pd\n",
    "import time\n",
    "import random\n",
    "\n",
    "def extract_playlists_to_csv(playlist_ids=[], playlist_type = 'playlist'):\n",
    "    \n",
    "    all_playlists_track_df = pd.DataFrame(get_playlist_track_infos(playlist_ids[0], playlist_type))\n",
    "    \n",
    "    if len(playlist_ids) >= 1:\n",
    "        for i in range(1, len(playlist_ids)):\n",
    "            time_lapse = random.randint(4,9)\n",
    "            print(\"Sleeping for \", time_lapse, \"seconds.\")\n",
    "            time.sleep(time_lapse)\n",
    "            single_playlist_df = pd.DataFrame(get_playlist_track_infos(playlist_ids[i], playlist_type))\n",
    "            all_playlists_track_df = pd.concat([all_playlists_track_df, single_playlist_df], ignore_index=True)\n",
    "            all_playlists_track_df.to_csv(\"data/all_playlists_track_info.csv\")\n",
    "    \n",
    "    all_playlists_track_df.to_csv(\"data/all_playlists_track_info.csv\")\n",
    "    \n",
    "    return None\n"
   ]
  },
  {
   "cell_type": "markdown",
   "metadata": {},
   "source": [
    "playlists = [\"\",\n",
    "            \"spotify:playlist:5p48Y2oY7Ha20Yq8iTDiyG\",\n",
    "            \"\",\n",
    "            \"spotify:playlist:37i9dQZF1E3702DG4GR1WO\",\n",
    "            \"spotify:playlist:37i9dQZF1E3541YD0iNnOO\",\n",
    "            \"spotify:playlist:37i9dQZF1E36ErMEgUSzKJ\",\n",
    "            \"spotify:playlist:37i9dQZF1DX23YPJntYMnh\",\n",
    "            \"spotify:playlist:37i9dQZF1DX4WgZiuR77Ef\",\n",
    "            \"spotify:playlist:37i9dQZF1DX48ZHftL4a1N\",\n",
    "            \"spotify:playlist:37i9dQZF1DWWOaP4H0w5b0\",\n",
    "            \"spotify:playlist:37i9dQZF1DWTcqUzwhNmKv\",\n",
    "            \"spotify:playlist:37i9dQZF1DX5J7FIl4q56G\",\n",
    "            \"spotify:playlist:37i9dQZF1DX9qNs32fujYe\",\n",
    "            \"spotify:playlist:37i9dQZF1DWWvhKV4FBciw\",\n",
    "            \"spotify:playlist:37i9dQZF1DWSXWSaQmvWOB\",\n",
    "            \"spotify:playlist:37i9dQZF1DX5lDysu4GbKR\",\n",
    "            \"spotify:playlist:37i9dQZF1DWYV7OOaGhoH0\",\n",
    "            \"spotify:playlist:37i9dQZF1DX6z20IXmBjWI\",\n",
    "            \"spotify:playlist:37i9dQZF1DX504r1DvyvxG\",\n",
    "            \"spotify:playlist:37i9dQZF1DX9crXQ0wuuXE\",\n",
    "            \"spotify:playlist:37i9dQZF1DWSrdTgewhgZq\",\n",
    "            \"spotify:playlist:37i9dQZF1DX4SBhb3fqCJd\",\n",
    "            \"spotify:playlist:37i9dQZF1DWYmmr74INQlb\",\n",
    "            \"spotify:playlist:37i9dQZF1DX2rVwh3lcWku\",\n",
    "            \"spotify:playlist:37i9dQZF1DWYqfaEyH6O9U\",\n",
    "            \"spotify:playlist:37i9dQZF1DWZYOM6QxgTaX\",\n",
    "            \"spotify:playlist:37i9dQZF1DX0XUsuxWHRQd\",\n",
    "            \"spotify:playlist:37i9dQZF1DX7Mq3mO5SSDc\",\n",
    "            \"spotify:playlist:37i9dQZF1DXcd2Vmhfon1w\",\n",
    "            \"spotify:playlist:37i9dQZF1DX3sCT1ItXgNd\",\n",
    "            \"spotify:playlist:37i9dQZF1DXcBWIGoYBM5M\",\n",
    "            \"spotify:playlist:37i9dQZF1DWTyTiBbDrmml\",\n",
    "            \"spotify:playlist:37i9dQZF1DX1ngEVM0lKrb\",\n",
    "            \"spotify:playlist:37i9dQZF1DX1lVhptIYRda\",\n",
    "            \"spotify:playlist:37i9dQZF1DX8S0uQvJ4gaa\",\n",
    "            \"spotify:playlist:37i9dQZF1DWYnwbYQ5HnZU\"]\n",
    "            "
   ]
  },
  {
   "cell_type": "code",
   "execution_count": 7,
   "metadata": {},
   "outputs": [
    {
     "name": "stderr",
     "output_type": "stream",
     "text": [
      "HTTP Error for GET to https://api.spotify.com/v1/playlists/s/tracks returned 404 due to Invalid playlist Id\n"
     ]
    },
    {
     "ename": "SpotifyException",
     "evalue": "http status: 404, code:-1 - https://api.spotify.com/v1/playlists/s/tracks?limit=100&offset=0&additional_types=track:\n Invalid playlist Id, reason: None",
     "output_type": "error",
     "traceback": [
      "\u001b[0;31m---------------------------------------------------------------------------\u001b[0m",
      "\u001b[0;31mHTTPError\u001b[0m                                 Traceback (most recent call last)",
      "\u001b[0;32m~/opt/anaconda3/lib/python3.7/site-packages/spotipy/client.py\u001b[0m in \u001b[0;36m_internal_call\u001b[0;34m(self, method, url, payload, params)\u001b[0m\n\u001b[1;32m    244\u001b[0m \u001b[0;34m\u001b[0m\u001b[0m\n\u001b[0;32m--> 245\u001b[0;31m             \u001b[0mresponse\u001b[0m\u001b[0;34m.\u001b[0m\u001b[0mraise_for_status\u001b[0m\u001b[0;34m(\u001b[0m\u001b[0;34m)\u001b[0m\u001b[0;34m\u001b[0m\u001b[0;34m\u001b[0m\u001b[0m\n\u001b[0m\u001b[1;32m    246\u001b[0m             \u001b[0mresults\u001b[0m \u001b[0;34m=\u001b[0m \u001b[0mresponse\u001b[0m\u001b[0;34m.\u001b[0m\u001b[0mjson\u001b[0m\u001b[0;34m(\u001b[0m\u001b[0;34m)\u001b[0m\u001b[0;34m\u001b[0m\u001b[0;34m\u001b[0m\u001b[0m\n",
      "\u001b[0;32m~/opt/anaconda3/lib/python3.7/site-packages/requests/models.py\u001b[0m in \u001b[0;36mraise_for_status\u001b[0;34m(self)\u001b[0m\n\u001b[1;32m    939\u001b[0m         \u001b[0;32mif\u001b[0m \u001b[0mhttp_error_msg\u001b[0m\u001b[0;34m:\u001b[0m\u001b[0;34m\u001b[0m\u001b[0;34m\u001b[0m\u001b[0m\n\u001b[0;32m--> 940\u001b[0;31m             \u001b[0;32mraise\u001b[0m \u001b[0mHTTPError\u001b[0m\u001b[0;34m(\u001b[0m\u001b[0mhttp_error_msg\u001b[0m\u001b[0;34m,\u001b[0m \u001b[0mresponse\u001b[0m\u001b[0;34m=\u001b[0m\u001b[0mself\u001b[0m\u001b[0;34m)\u001b[0m\u001b[0;34m\u001b[0m\u001b[0;34m\u001b[0m\u001b[0m\n\u001b[0m\u001b[1;32m    941\u001b[0m \u001b[0;34m\u001b[0m\u001b[0m\n",
      "\u001b[0;31mHTTPError\u001b[0m: 404 Client Error: Not Found for url: https://api.spotify.com/v1/playlists/s/tracks?limit=100&offset=0&additional_types=track",
      "\nDuring handling of the above exception, another exception occurred:\n",
      "\u001b[0;31mSpotifyException\u001b[0m                          Traceback (most recent call last)",
      "\u001b[0;32m<ipython-input-7-55b81b27bc45>\u001b[0m in \u001b[0;36m<module>\u001b[0;34m\u001b[0m\n\u001b[1;32m      2\u001b[0m \u001b[0;34m\u001b[0m\u001b[0m\n\u001b[1;32m      3\u001b[0m \u001b[0;31m#playlists = [\"spotify:album:1m3rdPFkSHsT1mvzHBXytl\",\"spotify:album:72Bb08DkLMewuOlfRtiQpp\"]\u001b[0m\u001b[0;34m\u001b[0m\u001b[0;34m\u001b[0m\u001b[0;34m\u001b[0m\u001b[0m\n\u001b[0;32m----> 4\u001b[0;31m \u001b[0mextract_playlists_to_csv\u001b[0m\u001b[0;34m(\u001b[0m\u001b[0mplaylist\u001b[0m\u001b[0;34m,\u001b[0m \u001b[0;34m\"playlist\"\u001b[0m\u001b[0;34m)\u001b[0m\u001b[0;34m\u001b[0m\u001b[0;34m\u001b[0m\u001b[0m\n\u001b[0m",
      "\u001b[0;32m<ipython-input-4-bc33981cf394>\u001b[0m in \u001b[0;36mextract_playlists_to_csv\u001b[0;34m(playlist_ids, playlist_type)\u001b[0m\n\u001b[1;32m      5\u001b[0m \u001b[0;32mdef\u001b[0m \u001b[0mextract_playlists_to_csv\u001b[0m\u001b[0;34m(\u001b[0m\u001b[0mplaylist_ids\u001b[0m\u001b[0;34m=\u001b[0m\u001b[0;34m[\u001b[0m\u001b[0;34m]\u001b[0m\u001b[0;34m,\u001b[0m \u001b[0mplaylist_type\u001b[0m \u001b[0;34m=\u001b[0m \u001b[0;34m'playlist'\u001b[0m\u001b[0;34m)\u001b[0m\u001b[0;34m:\u001b[0m\u001b[0;34m\u001b[0m\u001b[0;34m\u001b[0m\u001b[0m\n\u001b[1;32m      6\u001b[0m \u001b[0;34m\u001b[0m\u001b[0m\n\u001b[0;32m----> 7\u001b[0;31m     \u001b[0mall_playlists_track_df\u001b[0m \u001b[0;34m=\u001b[0m \u001b[0mpd\u001b[0m\u001b[0;34m.\u001b[0m\u001b[0mDataFrame\u001b[0m\u001b[0;34m(\u001b[0m\u001b[0mget_playlist_track_infos\u001b[0m\u001b[0;34m(\u001b[0m\u001b[0mplaylist_ids\u001b[0m\u001b[0;34m[\u001b[0m\u001b[0;36m0\u001b[0m\u001b[0;34m]\u001b[0m\u001b[0;34m,\u001b[0m \u001b[0mplaylist_type\u001b[0m\u001b[0;34m)\u001b[0m\u001b[0;34m)\u001b[0m\u001b[0;34m\u001b[0m\u001b[0;34m\u001b[0m\u001b[0m\n\u001b[0m\u001b[1;32m      8\u001b[0m \u001b[0;34m\u001b[0m\u001b[0m\n\u001b[1;32m      9\u001b[0m     \u001b[0;32mif\u001b[0m \u001b[0mlen\u001b[0m\u001b[0;34m(\u001b[0m\u001b[0mplaylist_ids\u001b[0m\u001b[0;34m)\u001b[0m \u001b[0;34m>=\u001b[0m \u001b[0;36m1\u001b[0m\u001b[0;34m:\u001b[0m\u001b[0;34m\u001b[0m\u001b[0;34m\u001b[0m\u001b[0m\n",
      "\u001b[0;32m<ipython-input-3-af055550c667>\u001b[0m in \u001b[0;36mget_playlist_track_infos\u001b[0;34m(playlist_id, playlist_type)\u001b[0m\n\u001b[1;32m     21\u001b[0m \u001b[0;34m\u001b[0m\u001b[0m\n\u001b[1;32m     22\u001b[0m     \u001b[0;32mif\u001b[0m \u001b[0mplaylist_type\u001b[0m \u001b[0;34m==\u001b[0m \u001b[0;34m\"playlist\"\u001b[0m\u001b[0;34m:\u001b[0m\u001b[0;34m\u001b[0m\u001b[0;34m\u001b[0m\u001b[0m\n\u001b[0;32m---> 23\u001b[0;31m         \u001b[0mplaylist\u001b[0m \u001b[0;34m=\u001b[0m \u001b[0msp\u001b[0m\u001b[0;34m.\u001b[0m\u001b[0muser_playlist_tracks\u001b[0m\u001b[0;34m(\u001b[0m\u001b[0;34m\"spotify\"\u001b[0m\u001b[0;34m,\u001b[0m \u001b[0mplaylist_id\u001b[0m\u001b[0;34m)\u001b[0m\u001b[0;34m\u001b[0m\u001b[0;34m\u001b[0m\u001b[0m\n\u001b[0m\u001b[1;32m     24\u001b[0m     \u001b[0;32melif\u001b[0m \u001b[0mplaylist_type\u001b[0m \u001b[0;34m==\u001b[0m \u001b[0;34m\"album\"\u001b[0m\u001b[0;34m:\u001b[0m\u001b[0;34m\u001b[0m\u001b[0;34m\u001b[0m\u001b[0m\n\u001b[1;32m     25\u001b[0m         \u001b[0mplaylist\u001b[0m \u001b[0;34m=\u001b[0m \u001b[0msp\u001b[0m\u001b[0;34m.\u001b[0m\u001b[0malbum_tracks\u001b[0m\u001b[0;34m(\u001b[0m\u001b[0mplaylist_id\u001b[0m\u001b[0;34m)\u001b[0m\u001b[0;34m\u001b[0m\u001b[0;34m\u001b[0m\u001b[0m\n",
      "\u001b[0;32m~/opt/anaconda3/lib/python3.7/site-packages/spotipy/client.py\u001b[0m in \u001b[0;36muser_playlist_tracks\u001b[0;34m(self, user, playlist_id, fields, limit, offset, market)\u001b[0m\n\u001b[1;32m    741\u001b[0m             \u001b[0moffset\u001b[0m\u001b[0;34m=\u001b[0m\u001b[0moffset\u001b[0m\u001b[0;34m,\u001b[0m\u001b[0;34m\u001b[0m\u001b[0;34m\u001b[0m\u001b[0m\n\u001b[1;32m    742\u001b[0m             \u001b[0mfields\u001b[0m\u001b[0;34m=\u001b[0m\u001b[0mfields\u001b[0m\u001b[0;34m,\u001b[0m\u001b[0;34m\u001b[0m\u001b[0;34m\u001b[0m\u001b[0m\n\u001b[0;32m--> 743\u001b[0;31m             \u001b[0mmarket\u001b[0m\u001b[0;34m=\u001b[0m\u001b[0mmarket\u001b[0m\u001b[0;34m,\u001b[0m\u001b[0;34m\u001b[0m\u001b[0;34m\u001b[0m\u001b[0m\n\u001b[0m\u001b[1;32m    744\u001b[0m         )\n\u001b[1;32m    745\u001b[0m \u001b[0;34m\u001b[0m\u001b[0m\n",
      "\u001b[0;32m~/opt/anaconda3/lib/python3.7/site-packages/spotipy/client.py\u001b[0m in \u001b[0;36mplaylist_tracks\u001b[0;34m(self, playlist_id, fields, limit, offset, market, additional_types)\u001b[0m\n\u001b[1;32m    639\u001b[0m         )\n\u001b[1;32m    640\u001b[0m         return self.playlist_items(playlist_id, fields, limit, offset,\n\u001b[0;32m--> 641\u001b[0;31m                                    market, additional_types)\n\u001b[0m\u001b[1;32m    642\u001b[0m \u001b[0;34m\u001b[0m\u001b[0m\n\u001b[1;32m    643\u001b[0m     def playlist_items(\n",
      "\u001b[0;32m~/opt/anaconda3/lib/python3.7/site-packages/spotipy/client.py\u001b[0m in \u001b[0;36mplaylist_items\u001b[0;34m(self, playlist_id, fields, limit, offset, market, additional_types)\u001b[0m\n\u001b[1;32m    668\u001b[0m             \u001b[0mfields\u001b[0m\u001b[0;34m=\u001b[0m\u001b[0mfields\u001b[0m\u001b[0;34m,\u001b[0m\u001b[0;34m\u001b[0m\u001b[0;34m\u001b[0m\u001b[0m\n\u001b[1;32m    669\u001b[0m             \u001b[0mmarket\u001b[0m\u001b[0;34m=\u001b[0m\u001b[0mmarket\u001b[0m\u001b[0;34m,\u001b[0m\u001b[0;34m\u001b[0m\u001b[0;34m\u001b[0m\u001b[0m\n\u001b[0;32m--> 670\u001b[0;31m             \u001b[0madditional_types\u001b[0m\u001b[0;34m=\u001b[0m\u001b[0;34m\",\"\u001b[0m\u001b[0;34m.\u001b[0m\u001b[0mjoin\u001b[0m\u001b[0;34m(\u001b[0m\u001b[0madditional_types\u001b[0m\u001b[0;34m)\u001b[0m\u001b[0;34m\u001b[0m\u001b[0;34m\u001b[0m\u001b[0m\n\u001b[0m\u001b[1;32m    671\u001b[0m         )\n\u001b[1;32m    672\u001b[0m \u001b[0;34m\u001b[0m\u001b[0m\n",
      "\u001b[0;32m~/opt/anaconda3/lib/python3.7/site-packages/spotipy/client.py\u001b[0m in \u001b[0;36m_get\u001b[0;34m(self, url, args, payload, **kwargs)\u001b[0m\n\u001b[1;32m    289\u001b[0m             \u001b[0mkwargs\u001b[0m\u001b[0;34m.\u001b[0m\u001b[0mupdate\u001b[0m\u001b[0;34m(\u001b[0m\u001b[0margs\u001b[0m\u001b[0;34m)\u001b[0m\u001b[0;34m\u001b[0m\u001b[0;34m\u001b[0m\u001b[0m\n\u001b[1;32m    290\u001b[0m \u001b[0;34m\u001b[0m\u001b[0m\n\u001b[0;32m--> 291\u001b[0;31m         \u001b[0;32mreturn\u001b[0m \u001b[0mself\u001b[0m\u001b[0;34m.\u001b[0m\u001b[0m_internal_call\u001b[0m\u001b[0;34m(\u001b[0m\u001b[0;34m\"GET\"\u001b[0m\u001b[0;34m,\u001b[0m \u001b[0murl\u001b[0m\u001b[0;34m,\u001b[0m \u001b[0mpayload\u001b[0m\u001b[0;34m,\u001b[0m \u001b[0mkwargs\u001b[0m\u001b[0;34m)\u001b[0m\u001b[0;34m\u001b[0m\u001b[0;34m\u001b[0m\u001b[0m\n\u001b[0m\u001b[1;32m    292\u001b[0m \u001b[0;34m\u001b[0m\u001b[0m\n\u001b[1;32m    293\u001b[0m     \u001b[0;32mdef\u001b[0m \u001b[0m_post\u001b[0m\u001b[0;34m(\u001b[0m\u001b[0mself\u001b[0m\u001b[0;34m,\u001b[0m \u001b[0murl\u001b[0m\u001b[0;34m,\u001b[0m \u001b[0margs\u001b[0m\u001b[0;34m=\u001b[0m\u001b[0;32mNone\u001b[0m\u001b[0;34m,\u001b[0m \u001b[0mpayload\u001b[0m\u001b[0;34m=\u001b[0m\u001b[0;32mNone\u001b[0m\u001b[0;34m,\u001b[0m \u001b[0;34m**\u001b[0m\u001b[0mkwargs\u001b[0m\u001b[0;34m)\u001b[0m\u001b[0;34m:\u001b[0m\u001b[0;34m\u001b[0m\u001b[0;34m\u001b[0m\u001b[0m\n",
      "\u001b[0;32m~/opt/anaconda3/lib/python3.7/site-packages/spotipy/client.py\u001b[0m in \u001b[0;36m_internal_call\u001b[0;34m(self, method, url, payload, params)\u001b[0m\n\u001b[1;32m    264\u001b[0m                 \u001b[0;34m\"%s:\\n %s\"\u001b[0m \u001b[0;34m%\u001b[0m \u001b[0;34m(\u001b[0m\u001b[0mresponse\u001b[0m\u001b[0;34m.\u001b[0m\u001b[0murl\u001b[0m\u001b[0;34m,\u001b[0m \u001b[0mmsg\u001b[0m\u001b[0;34m)\u001b[0m\u001b[0;34m,\u001b[0m\u001b[0;34m\u001b[0m\u001b[0;34m\u001b[0m\u001b[0m\n\u001b[1;32m    265\u001b[0m                 \u001b[0mreason\u001b[0m\u001b[0;34m=\u001b[0m\u001b[0mreason\u001b[0m\u001b[0;34m,\u001b[0m\u001b[0;34m\u001b[0m\u001b[0;34m\u001b[0m\u001b[0m\n\u001b[0;32m--> 266\u001b[0;31m                 \u001b[0mheaders\u001b[0m\u001b[0;34m=\u001b[0m\u001b[0mresponse\u001b[0m\u001b[0;34m.\u001b[0m\u001b[0mheaders\u001b[0m\u001b[0;34m,\u001b[0m\u001b[0;34m\u001b[0m\u001b[0;34m\u001b[0m\u001b[0m\n\u001b[0m\u001b[1;32m    267\u001b[0m             )\n\u001b[1;32m    268\u001b[0m         \u001b[0;32mexcept\u001b[0m \u001b[0mrequests\u001b[0m\u001b[0;34m.\u001b[0m\u001b[0mexceptions\u001b[0m\u001b[0;34m.\u001b[0m\u001b[0mRetryError\u001b[0m \u001b[0;32mas\u001b[0m \u001b[0mretry_error\u001b[0m\u001b[0;34m:\u001b[0m\u001b[0;34m\u001b[0m\u001b[0;34m\u001b[0m\u001b[0m\n",
      "\u001b[0;31mSpotifyException\u001b[0m: http status: 404, code:-1 - https://api.spotify.com/v1/playlists/s/tracks?limit=100&offset=0&additional_types=track:\n Invalid playlist Id, reason: None"
     ]
    }
   ],
   "source": [
    "playlist = \"spotify:playlist:1kVI7R6OrKNN8Bf8GMJq9q\"\n",
    "\n",
    "#playlists = [\"spotify:album:1m3rdPFkSHsT1mvzHBXytl\",\"spotify:album:72Bb08DkLMewuOlfRtiQpp\"]\n",
    "extract_playlists_to_csv(playlist, \"playlist\")"
   ]
  },
  {
   "cell_type": "code",
   "execution_count": 76,
   "metadata": {},
   "outputs": [],
   "source": [
    "result_alb = sp.album_tracks(\"spotify:album:1m3rdPFkSHsT1mvzHBXytl\")"
   ]
  },
  {
   "cell_type": "code",
   "execution_count": 77,
   "metadata": {},
   "outputs": [
    {
     "data": {
      "text/plain": [
       "dict_keys(['artists', 'available_markets', 'disc_number', 'duration_ms', 'explicit', 'external_urls', 'href', 'id', 'is_local', 'name', 'preview_url', 'track_number', 'type', 'uri'])"
      ]
     },
     "execution_count": 77,
     "metadata": {},
     "output_type": "execute_result"
    }
   ],
   "source": [
    "result_alb[\"items\"][0].keys()"
   ]
  },
  {
   "cell_type": "code",
   "execution_count": null,
   "metadata": {},
   "outputs": [],
   "source": [
    "result_la"
   ]
  }
 ],
 "metadata": {
  "kernelspec": {
   "display_name": "Python 3",
   "language": "python",
   "name": "python3"
  },
  "language_info": {
   "codemirror_mode": {
    "name": "ipython",
    "version": 3
   },
   "file_extension": ".py",
   "mimetype": "text/x-python",
   "name": "python",
   "nbconvert_exporter": "python",
   "pygments_lexer": "ipython3",
   "version": "3.7.6"
  }
 },
 "nbformat": 4,
 "nbformat_minor": 4
}
